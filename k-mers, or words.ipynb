{
 "cells": [
  {
   "cell_type": "markdown",
   "metadata": {},
   "source": [
    "# Retrieve sequences from Genbank\n"
   ]
  },
  {
   "cell_type": "code",
   "execution_count": 1,
   "metadata": {},
   "outputs": [],
   "source": [
    "from Bio import Entrez, SeqIO\n",
    "\n",
    "VC1 ='NC_002505' # Vibrio cholerae chromosome 1\n",
    "VC2 ='NC_002506' #Vibrio cholerae chromosome 2\n",
    "TP = 'NC_009486' # Thermotoga petrophila \n",
    "EC = 'NC_000913' # E coli K12\n",
    "EO157 = 'BA000007' # E coli O157 Sakai"
   ]
  },
  {
   "cell_type": "code",
   "execution_count": 2,
   "metadata": {},
   "outputs": [],
   "source": [
    "Entrez.email='d.m.a.martin@dundee.ac.uk'\n",
    "TPseqentry = next(SeqIO.parse(Entrez.efetch(db='nucleotide', id=TP, retmode='txt', rettype='gbwithparts'), 'gb'))\n",
    "ECseqentry = next(SeqIO.parse(Entrez.efetch(db='nucleotide', id=EC, retmode='txt', rettype='gbwithparts'), 'gb'))\n",
    "V1seqentry = next(SeqIO.parse(Entrez.efetch(db='nucleotide', id=VC1, retmode='txt', rettype='gbwithparts'), 'gb'))\n",
    "V2seqentry = next(SeqIO.parse(Entrez.efetch(db='nucleotide', id=VC2, retmode='txt', rettype='gbwithparts'), 'gb'))\n",
    "EO157entry = next(SeqIO.parse(Entrez.efetch(db='nucleotide', id=EO157, retmode='txt', rettype='gbwithparts'), 'gb'))\n",
    "\n"
   ]
  },
  {
   "cell_type": "code",
   "execution_count": 3,
   "metadata": {},
   "outputs": [],
   "source": [
    "def reverse_complement(seq):\n",
    "    '''reverse complement a sequence'''\n",
    "    s2= seq[::-1].lower()\n",
    "    return s2.replace('a','T').replace('c','G').replace('g','C').replace('t','A')\n",
    "\n",
    "def get_words(seqentry, ws=13):\n",
    "    seq = str(seqentry.seq)\n",
    "    seq += seq[:ws]\n",
    "    words = {}\n",
    "    for p in range(len(seq)):\n",
    "        kmer = seq[p:p+ws]\n",
    "        kmer = min(kmer, reverse_complement(kmer))\n",
    "        words[kmer] = words.get(kmer, 0)+1\n",
    "    return [(x, words[x]) for x in sorted(words, reverse=True, key=lambda y: words[y])]\n"
   ]
  },
  {
   "cell_type": "code",
   "execution_count": 4,
   "metadata": {},
   "outputs": [],
   "source": [
    "TPwords = get_words(TPseqentry)\n",
    "V1words = get_words(V1seqentry)\n",
    "V2words = get_words(V2seqentry)\n",
    "ECwords = get_words(ECseqentry)\n",
    "ESwords = get_words(EO157entry)\n"
   ]
  },
  {
   "cell_type": "code",
   "execution_count": 5,
   "metadata": {},
   "outputs": [
    {
     "name": "stdout",
     "output_type": "stream",
     "text": [
      "Thermatoga petrophilia 1633320 24837\n",
      "Vibrio cholerae Chr 1 2642814 34829\n",
      "Vibrio cholerae Chr 2 989067 9791\n",
      "E coli K12 3852770 122049\n",
      "E coli O157 4344578 198332\n"
     ]
    }
   ],
   "source": [
    "print('Thermatoga petrophilia', len(TPwords), len([x for x in TPwords if x[1]> 2 ]))\n",
    "print('Vibrio cholerae Chr 1', len(V1words), len([x for x in V1words if x[1]> 2 ]))\n",
    "print('Vibrio cholerae Chr 2', len(V2words), len([x for x in V2words if x[1]> 2 ]))\n",
    "print('E coli K12', len(ECwords), len([x for x in ECwords if x[1]> 2 ]))\n",
    "print('E coli O157', len(ESwords), len([x for x in ESwords if x[1]> 2 ]))   \n"
   ]
  },
  {
   "cell_type": "code",
   "execution_count": 6,
   "metadata": {},
   "outputs": [
    {
     "data": {
      "text/plain": [
       "[('TACCTCTAAGGAA', 65)]"
      ]
     },
     "execution_count": 6,
     "metadata": {},
     "output_type": "execute_result"
    }
   ],
   "source": [
    "TPwords[:1]"
   ]
  },
  {
   "cell_type": "code",
   "execution_count": 7,
   "metadata": {},
   "outputs": [],
   "source": [
    "def compare_words(words1, words2, n=1000):\n",
    "    \n",
    "    w1 = [x[0] for x in words1 if x[1] >=words1[n-1][1]]\n",
    "    w2 = [x[0] for x in words2 if  x[1] >= words2[n-1][1]]\n",
    "    union = len(set(w1+ w2))\n",
    "    overlap = len(w1)+len(w2) - union\n",
    "    jacindex = overlap /union\n",
    "    print('Set 1: {} Set 2: {} Union: {} Overlap: {}'.format(len(w1), len(w2), union, overlap))\n",
    "    \n",
    "    return jacindex"
   ]
  },
  {
   "cell_type": "code",
   "execution_count": 13,
   "metadata": {},
   "outputs": [
    {
     "name": "stdout",
     "output_type": "stream",
     "text": [
      "Set 1: 4715 Set 2: 1165 Union: 5764 Overlap: 116\n",
      "Jaccard Index: 0.020\n"
     ]
    }
   ],
   "source": [
    "\n",
    "print('Jaccard Index: {:.03f}'.format(compare_words(V1words, V2words, n=1000)))"
   ]
  }
 ],
 "metadata": {
  "kernelspec": {
   "display_name": "Python 3",
   "language": "python",
   "name": "python3"
  },
  "language_info": {
   "codemirror_mode": {
    "name": "ipython",
    "version": 3
   },
   "file_extension": ".py",
   "mimetype": "text/x-python",
   "name": "python",
   "nbconvert_exporter": "python",
   "pygments_lexer": "ipython3",
   "version": "3.6.5"
  }
 },
 "nbformat": 4,
 "nbformat_minor": 2
}
